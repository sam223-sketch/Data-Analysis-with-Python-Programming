{
 "cells": [
  {
   "cell_type": "code",
   "execution_count": 2,
   "metadata": {},
   "outputs": [
    {
     "name": "stdout",
     "output_type": "stream",
     "text": [
      "float64\n"
     ]
    }
   ],
   "source": [
    "''' DATA VISUALIZATION WITH NUMPY'''\n",
    "\n",
    "import numpy as np\n",
    "\n",
    "list1 = [1,2,3,4]\n",
    "list2 = [5.2,6,7,8]\n",
    "\n",
    "my_array = np.array([list1,list2])\n",
    "\n",
    "#my_array\n",
    "\n",
    "#print(my_array.shape)   ### Shows the dimension of a list\n",
    "\n",
    "print(my_array.dtype)  ### shows the data type"
   ]
  },
  {
   "cell_type": "code",
   "execution_count": 10,
   "metadata": {},
   "outputs": [
    {
     "name": "stdout",
     "output_type": "stream",
     "text": [
      "[0. 0. 0. 0. 0. 0. 0. 0. 0. 0.]\n"
     ]
    }
   ],
   "source": [
    "''' ZEROS, ONES, EMPTY, EYE, ARANGE '''\n",
    "\n",
    "new_array = np.zeros(10) # Produces ten zeros\n",
    "\n",
    "print(new_array)"
   ]
  },
  {
   "cell_type": "code",
   "execution_count": 24,
   "metadata": {},
   "outputs": [
    {
     "name": "stdout",
     "output_type": "stream",
     "text": [
      "[[1. 1. 1. 1. 1. 1. 1. 1. 1. 1.]\n",
      " [1. 1. 1. 1. 1. 1. 1. 1. 1. 1.]\n",
      " [1. 1. 1. 1. 1. 1. 1. 1. 1. 1.]\n",
      " [1. 1. 1. 1. 1. 1. 1. 1. 1. 1.]\n",
      " [1. 1. 1. 1. 1. 1. 1. 1. 1. 1.]\n",
      " [1. 1. 1. 1. 1. 1. 1. 1. 1. 1.]\n",
      " [1. 1. 1. 1. 1. 1. 1. 1. 1. 1.]\n",
      " [1. 1. 1. 1. 1. 1. 1. 1. 1. 1.]\n",
      " [1. 1. 1. 1. 1. 1. 1. 1. 1. 1.]\n",
      " [1. 1. 1. 1. 1. 1. 1. 1. 1. 1.]]\n"
     ]
    }
   ],
   "source": [
    "new_array1 = np.ones([10, 10]) # Produces ten ones horizontal and ten ones vertical\n",
    "\n",
    "print(new_array1)"
   ]
  },
  {
   "cell_type": "code",
   "execution_count": 4,
   "metadata": {},
   "outputs": [
    {
     "name": "stdout",
     "output_type": "stream",
     "text": [
      "[1.14768140e-311 1.77863633e-322 0.00000000e+000 0.00000000e+000\n",
      " 6.23037656e-307 1.16096346e-028 1.04857803e-142 1.16467185e-028\n",
      " 3.57722603e-057 1.24610960e-306]\n"
     ]
    }
   ],
   "source": [
    "new_array2 = np.empty(10) # Produces ten ones works as zeros\n",
    "\n",
    "print(new_array2)"
   ]
  },
  {
   "cell_type": "code",
   "execution_count": 18,
   "metadata": {},
   "outputs": [
    {
     "name": "stdout",
     "output_type": "stream",
     "text": [
      "[[1. 0. 0. 0. 0. 0. 0. 0. 0. 0.]\n",
      " [0. 1. 0. 0. 0. 0. 0. 0. 0. 0.]\n",
      " [0. 0. 1. 0. 0. 0. 0. 0. 0. 0.]\n",
      " [0. 0. 0. 1. 0. 0. 0. 0. 0. 0.]\n",
      " [0. 0. 0. 0. 1. 0. 0. 0. 0. 0.]\n",
      " [0. 0. 0. 0. 0. 1. 0. 0. 0. 0.]\n",
      " [0. 0. 0. 0. 0. 0. 1. 0. 0. 0.]\n",
      " [0. 0. 0. 0. 0. 0. 0. 1. 0. 0.]\n",
      " [0. 0. 0. 0. 0. 0. 0. 0. 1. 0.]\n",
      " [0. 0. 0. 0. 0. 0. 0. 0. 0. 1.]]\n"
     ]
    }
   ],
   "source": [
    "new_array3 = np.eye(10)\n",
    "\n",
    "print(new_array3)"
   ]
  },
  {
   "cell_type": "code",
   "execution_count": 21,
   "metadata": {},
   "outputs": [
    {
     "name": "stdout",
     "output_type": "stream",
     "text": [
      "[10 13 16 19 22 25 28 31 34 37 40 43 46 49 52 55 58 61 64 67]\n"
     ]
    }
   ],
   "source": [
    "new_array4 = np.arange(10, 70, 3)\n",
    "\n",
    "print(new_array4)"
   ]
  },
  {
   "cell_type": "code",
   "execution_count": 6,
   "metadata": {},
   "outputs": [
    {
     "name": "stdout",
     "output_type": "stream",
     "text": [
      "[[1 2 3 4]\n",
      " [5 6 7 8]]\n"
     ]
    }
   ],
   "source": [
    "'''Scaler operations on array'''\n",
    "import numpy as np \n",
    "\n",
    "array1 = np.array([[1,2,3,4],[5,6,7,8]])\n",
    "print(array1)\n"
   ]
  },
  {
   "cell_type": "code",
   "execution_count": 8,
   "metadata": {},
   "outputs": [
    {
     "name": "stdout",
     "output_type": "stream",
     "text": [
      "[[ 1  4  9 16]\n",
      " [25 36 49 64]]\n"
     ]
    }
   ],
   "source": [
    "'''multiplication''' \n",
    "\n",
    "array2 = array1*array1\n",
    "print(array2)"
   ]
  },
  {
   "cell_type": "code",
   "execution_count": 10,
   "metadata": {},
   "outputs": [
    {
     "name": "stdout",
     "output_type": "stream",
     "text": [
      "[[   1   16   81  256]\n",
      " [ 625 1296 2401 4096]]\n"
     ]
    }
   ],
   "source": [
    "'''exponential multiplication'''\n",
    "\n",
    "array3 = array1**4\n",
    "print(array3)"
   ]
  },
  {
   "cell_type": "code",
   "execution_count": 11,
   "metadata": {},
   "outputs": [
    {
     "name": "stdout",
     "output_type": "stream",
     "text": [
      "[[   0   14   78  252]\n",
      " [ 620 1290 2394 4088]]\n"
     ]
    }
   ],
   "source": [
    "'''subtraction'''\n",
    "array4 = array3 - array1\n",
    "print(array4)"
   ]
  },
  {
   "cell_type": "code",
   "execution_count": 12,
   "metadata": {},
   "outputs": [
    {
     "name": "stdout",
     "output_type": "stream",
     "text": [
      "[[1.         0.5        0.33333333 0.25      ]\n",
      " [0.2        0.16666667 0.14285714 0.125     ]]\n"
     ]
    }
   ],
   "source": [
    "'''reciprocal'''\n",
    "\n",
    "array5 = 1/array1\n",
    "print(array5)"
   ]
  },
  {
   "cell_type": "code",
   "execution_count": 13,
   "metadata": {},
   "outputs": [
    {
     "name": "stdout",
     "output_type": "stream",
     "text": [
      "[ 0  1  2  3  4  5  6  7  8  9 10 11]\n"
     ]
    }
   ],
   "source": [
    "'''indexing'''\n",
    "\n",
    "array = np.arange(0,12)\n",
    "print(array)"
   ]
  },
  {
   "cell_type": "code",
   "execution_count": 14,
   "metadata": {},
   "outputs": [
    {
     "name": "stdout",
     "output_type": "stream",
     "text": [
      "[ 0  1  2  3  4  5  6  7  8  9 10 11]\n"
     ]
    }
   ],
   "source": [
    "'''make copy of array'''\n",
    "\n",
    "arraycopy = array.copy()\n",
    "print(arraycopy)"
   ]
  },
  {
   "cell_type": "code",
   "execution_count": 15,
   "metadata": {},
   "outputs": [
    {
     "name": "stdout",
     "output_type": "stream",
     "text": [
      "[50 50 50 50 50  5  6  7  8  9 10 11]\n"
     ]
    }
   ],
   "source": [
    "'''modify index'''\n",
    "array[0:5] = 50\n",
    "print(array)"
   ]
  },
  {
   "cell_type": "code",
   "execution_count": 6,
   "metadata": {},
   "outputs": [
    {
     "name": "stdout",
     "output_type": "stream",
     "text": [
      "[[1 2 3]\n",
      " [4 5 6]\n",
      " [7 8 9]]\n"
     ]
    }
   ],
   "source": [
    "'''advancing indexing'''\n",
    "\n",
    "array2 = np.array([[1,2,3],[4,5,6],[7,8,9]])\n",
    "print(array2)"
   ]
  },
  {
   "cell_type": "code",
   "execution_count": 10,
   "metadata": {},
   "outputs": [
    {
     "name": "stdout",
     "output_type": "stream",
     "text": [
      "8\n"
     ]
    }
   ],
   "source": [
    "'''accessing individual elements from each array'''\n",
    "print(array2[2][1])\n",
    "\n",
    "#print(array2[2][1])"
   ]
  },
  {
   "cell_type": "code",
   "execution_count": 17,
   "metadata": {},
   "outputs": [
    {
     "name": "stdout",
     "output_type": "stream",
     "text": [
      "[[1 2]\n",
      " [4 5]\n",
      " [7 8]]\n"
     ]
    }
   ],
   "source": [
    "'''slice array'''\n",
    "# this prints a row and a column eeach from the arrays\n",
    "slice1 = array2[0:3,0:2]\n",
    "print(slice1)"
   ]
  },
  {
   "cell_type": "code",
   "execution_count": 44,
   "metadata": {},
   "outputs": [
    {
     "name": "stdout",
     "output_type": "stream",
     "text": [
      "[[0 0 0]\n",
      " [1 1 1]\n",
      " [2 2 2]]\n"
     ]
    }
   ],
   "source": [
    "'''using loops to index'''\n",
    "\n",
    "array_len = array2.shape[0]\n",
    "\n",
    "for i in range(array_len):\n",
    "    array2[i] = i;\n",
    "print(array2)"
   ]
  },
  {
   "cell_type": "code",
   "execution_count": 54,
   "metadata": {},
   "outputs": [
    {
     "name": "stdout",
     "output_type": "stream",
     "text": [
      "[[0 0 0]\n",
      " [1 1 1]\n",
      " [2 2 2]]\n"
     ]
    }
   ],
   "source": [
    "# alternative way of accessing rows\n",
    "print(array2[[0,1,2]])"
   ]
  },
  {
   "cell_type": "code",
   "execution_count": 57,
   "metadata": {},
   "outputs": [
    {
     "name": "stdout",
     "output_type": "stream",
     "text": [
      "[ 0  1  2  3  4  5  6  7  8  9 10 11 12 13 14]\n",
      "[ 1  3  5  7  9 11 13]\n"
     ]
    }
   ],
   "source": [
    "''' universal array functions'''\n",
    "\n",
    "A = np.arange(15)\n",
    "print(A)\n",
    "A = np.arange(1,15,2)\n",
    "print(A)"
   ]
  },
  {
   "cell_type": "code",
   "execution_count": 59,
   "metadata": {},
   "outputs": [
    {
     "name": "stdout",
     "output_type": "stream",
     "text": [
      "B is\n",
      "[1.         1.73205081 2.23606798 2.64575131 3.         3.31662479\n",
      " 3.60555128]\n"
     ]
    }
   ],
   "source": [
    "# sqrt\n",
    "B = np.sqrt(A)\n",
    "print(\"B is\")\n",
    "print(B)"
   ]
  },
  {
   "cell_type": "code",
   "execution_count": 61,
   "metadata": {},
   "outputs": [
    {
     "name": "stdout",
     "output_type": "stream",
     "text": [
      "C is\n",
      "[2.71828183e+00 2.00855369e+01 1.48413159e+02 1.09663316e+03\n",
      " 8.10308393e+03 5.98741417e+04 4.42413392e+05]\n"
     ]
    }
   ],
   "source": [
    "# EXP\n",
    "C = np.exp(A)\n",
    "print(\"C is\")\n",
    "print(C)"
   ]
  },
  {
   "cell_type": "code",
   "execution_count": 63,
   "metadata": {},
   "outputs": [
    {
     "name": "stdout",
     "output_type": "stream",
     "text": [
      "D is\n",
      "[ 2.          4.73205081  7.23606798  9.64575131 12.         14.31662479\n",
      " 16.60555128]\n"
     ]
    }
   ],
   "source": [
    "# add\n",
    "D = np.add(A,B)\n",
    "print(\"D is\")\n",
    "print(D)"
   ]
  },
  {
   "cell_type": "code",
   "execution_count": 67,
   "metadata": {},
   "outputs": [
    {
     "name": "stdout",
     "output_type": "stream",
     "text": [
      "[ 1.  3.  5.  7.  9. 11. 13.]\n",
      "[1.         1.73205081 2.23606798 2.64575131 3.         3.31662479\n",
      " 3.60555128]\n"
     ]
    }
   ],
   "source": [
    "E = np.maximum(A,B)\n",
    "print(E)\n",
    "\n",
    "\n",
    "G = np.minimum(A,B)\n",
    "print(G)"
   ]
  },
  {
   "cell_type": "code",
   "execution_count": 69,
   "metadata": {},
   "outputs": [
    {
     "name": "stdout",
     "output_type": "stream",
     "text": [
      "[0 1 2 3 4 5 6 7 8 9]\n"
     ]
    }
   ],
   "source": [
    "'''saving and loading single array'''\n",
    "\n",
    "arr = np.arange(10)\n",
    "print(arr)"
   ]
  },
  {
   "cell_type": "code",
   "execution_count": 70,
   "metadata": {},
   "outputs": [],
   "source": [
    "# saving single array\n",
    "np.save('saved_array', arr)"
   ]
  },
  {
   "cell_type": "code",
   "execution_count": 91,
   "metadata": {},
   "outputs": [
    {
     "name": "stdout",
     "output_type": "stream",
     "text": [
      "[0 1 2 3 4 5 6 7 8 9]\n"
     ]
    }
   ],
   "source": [
    "# load single array\n",
    "load_array = np.load('saved_array.npy')\n",
    "print(load_array)"
   ]
  },
  {
   "cell_type": "code",
   "execution_count": 76,
   "metadata": {},
   "outputs": [],
   "source": [
    "'''saving and loading multiple arrays'''\n",
    "\n",
    "array_1 = np.arange(50)\n",
    "array_2 = np.arange(30)"
   ]
  },
  {
   "cell_type": "code",
   "execution_count": 77,
   "metadata": {},
   "outputs": [],
   "source": [
    "# saving multiple arrays\n",
    "np.savez('saved_archieve.npz', x = array_1, y = array_2)"
   ]
  },
  {
   "cell_type": "code",
   "execution_count": 87,
   "metadata": {},
   "outputs": [
    {
     "name": "stdout",
     "output_type": "stream",
     "text": [
      "load_archieve[x] is\n",
      "[ 0  1  2  3  4  5  6  7  8  9 10 11 12 13 14 15 16 17 18 19 20 21 22 23\n",
      " 24 25 26 27 28 29 30 31 32 33 34 35 36 37 38 39 40 41 42 43 44 45 46 47\n",
      " 48 49]\n",
      "\n",
      " load_archieve[y] is\n",
      "[ 0  1  2  3  4  5  6  7  8  9 10 11 12 13 14 15 16 17 18 19 20 21 22 23\n",
      " 24 25 26 27 28 29]\n"
     ]
    }
   ],
   "source": [
    "# load multiple saved arrays\n",
    "load_archieve = np.load('saved_archieve.npz')\n",
    "\n",
    "print('load_archieve[x] is')\n",
    "print(load_archieve['x'])\n",
    "\n",
    "print('\\n load_archieve[y] is')\n",
    "print(load_archieve['y'])"
   ]
  },
  {
   "cell_type": "code",
   "execution_count": 92,
   "metadata": {},
   "outputs": [],
   "source": [
    "# save to txtfile\n",
    "np.savetxt('numpyfile.txt', array_1,delimiter=',')"
   ]
  },
  {
   "cell_type": "code",
   "execution_count": 94,
   "metadata": {},
   "outputs": [
    {
     "name": "stdout",
     "output_type": "stream",
     "text": [
      "loaded file is\n",
      "[ 0.  1.  2.  3.  4.  5.  6.  7.  8.  9. 10. 11. 12. 13. 14. 15. 16. 17.\n",
      " 18. 19. 20. 21. 22. 23. 24. 25. 26. 27. 28. 29. 30. 31. 32. 33. 34. 35.\n",
      " 36. 37. 38. 39. 40. 41. 42. 43. 44. 45. 46. 47. 48. 49.]\n"
     ]
    }
   ],
   "source": [
    "# load txt files\n",
    "\n",
    "load_file = np.loadtxt('numpyfile.txt',delimiter=',')\n",
    "print('loaded file is')\n",
    "print(load_file)"
   ]
  },
  {
   "cell_type": "code",
   "execution_count": 103,
   "metadata": {},
   "outputs": [
    {
     "data": {
      "image/png": "[encoded data removed]",
      "text/plain": [
       "<Figure size 432x288 with 2 Axes>"
      ]
     },
     "metadata": {
      "needs_background": "light"
     },
     "output_type": "display_data"
    }
   ],
   "source": [
    "''' Statistical & Mathematical Processing of Arrays'''\n",
    "\n",
    "import matplotlib.pyplot as plt\n",
    "\n",
    "# make axes\n",
    "axes_values = np.arange(-100,100,10)\n",
    "\n",
    "dx, dy = np.meshgrid(axes_values, axes_values)\n",
    "\n",
    "function = 2*dx + 3*dy\n",
    "function2 = np.cos(dx) + np.cos(dy)\n",
    "#print(function)\n",
    "\n",
    "plt.imshow(function2)\n",
    "plt.title('function cos plot')\n",
    "plt.colorbar()\n",
    "plt.savefig('myfig.png')"
   ]
  },
  {
   "cell_type": "code",
   "execution_count": 113,
   "metadata": {},
   "outputs": [
    {
     "name": "stdout",
     "output_type": "stream",
     "text": [
      "[100, 400, 20, 25]\n"
     ]
    }
   ],
   "source": [
    "''' conditional clause and boolean operations '''\n",
    "\n",
    "x = np.array([100, 400, 500, 600])\n",
    "y = np.array([10, 15, 20, 25])\n",
    "\n",
    "condition = np.array([True, True, False, False])\n",
    "\n",
    "# use loops indirectly to perform this \n",
    "z = [a if cond else b for a, cond, b in zip(x, condition, y)]\n",
    "print(z)"
   ]
  },
  {
   "cell_type": "code",
   "execution_count": 108,
   "metadata": {},
   "outputs": [
    {
     "name": "stdout",
     "output_type": "stream",
     "text": [
      "[100 400  20  25]\n"
     ]
    }
   ],
   "source": [
    "# np.where(#condition, #vlaue for yes, #value for no)\n",
    "z2 = np.where(condition, x, y)\n",
    "print(z2)"
   ]
  },
  {
   "cell_type": "code",
   "execution_count": 110,
   "metadata": {},
   "outputs": [
    {
     "name": "stdout",
     "output_type": "stream",
     "text": [
      "[0 0 0 0]\n"
     ]
    }
   ],
   "source": [
    "z3 = np.where(x > 0, 0, 1)\n",
    "print(z3)"
   ]
  },
  {
   "cell_type": "code",
   "execution_count": 122,
   "metadata": {},
   "outputs": [
    {
     "name": "stdout",
     "output_type": "stream",
     "text": [
      "1600\n",
      "1600\n",
      "\n",
      " n.sum(0) sums the columns of array\n",
      "[4 6]\n"
     ]
    }
   ],
   "source": [
    "''' standard functions of numpy '''\n",
    "\n",
    "# sum x from the arrays above\n",
    "print(x.sum())\n",
    "\n",
    "# column sum \n",
    "print(x.sum(0))\n",
    "\n",
    "n = np.array([[1,2],[3,4]])\n",
    "print(\"\\n n.sum(0) sums the columns of array\")\n",
    "print(n.sum(0))"
   ]
  },
  {
   "cell_type": "code",
   "execution_count": 124,
   "metadata": {},
   "outputs": [
    {
     "name": "stdout",
     "output_type": "stream",
     "text": [
      "[ 1  3  4  6  7  8 11 12]\n"
     ]
    }
   ],
   "source": [
    "'''sorting in numpy arrays'''\n",
    "\n",
    "unsorted_array = np.array([11,12,3,4,6,8,1,7])\n",
    "unsorted_array.sort()\n",
    "print(unsorted_array)"
   ]
  },
  {
   "cell_type": "code",
   "execution_count": 128,
   "metadata": {
    "scrolled": true
   },
   "outputs": [
    {
     "name": "stdout",
     "output_type": "stream",
     "text": [
      "['gas' 'liquid' 'solid']\n",
      "[ True  True False]\n"
     ]
    }
   ],
   "source": [
    "arr2 = np.array(['solid', 'solidp;', 'solid', 'liquid', 'liquid', 'gas', 'gas'])\n",
    "print(np.unique(arr2))\n",
    "\n",
    "print(np.in1d(['solid', 'gas', 'plasma'],arr2))#  to check if an element belongs to an array"
   ]
  }
 ],
 "metadata": {
  "kernelspec": {
   "display_name": "Python 3",
   "language": "python",
   "name": "python3"
  },
  "language_info": {
   "codemirror_mode": {
    "name": "ipython",
    "version": 3
   },
   "file_extension": ".py",
   "mimetype": "text/x-python",
   "name": "python",
   "nbconvert_exporter": "python",
   "pygments_lexer": "ipython3",
   "version": "3.7.0"
  }
 },
 "nbformat": 4,
 "nbformat_minor": 2
}
